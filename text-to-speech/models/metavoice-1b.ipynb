{
  "nbformat": 4,
  "nbformat_minor": 0,
  "metadata": {
    "colab": {
      "provenance": [],
      "gpuType": "T4"
    },
    "kernelspec": {
      "name": "python3",
      "display_name": "Python 3"
    },
    "language_info": {
      "name": "python"
    },
    "accelerator": "GPU"
  },
  "cells": [
    {
      "cell_type": "markdown",
      "source": [
        "## Clone Repo"
      ],
      "metadata": {
        "id": "UxfIBEInJvBm"
      }
    },
    {
      "cell_type": "code",
      "source": [
        "!git clone https://github.com/metavoiceio/metavoice-src.git\n",
        "%cd metavoice-src"
      ],
      "metadata": {
        "id": "hK1BXnvVI80H"
      },
      "execution_count": null,
      "outputs": []
    },
    {
      "cell_type": "markdown",
      "source": [
        "## Install deps"
      ],
      "metadata": {
        "id": "m-0RbDoULs7O"
      }
    },
    {
      "cell_type": "code",
      "source": [
        "!pip install -r requirements.txt\n",
        "!pip install -e ."
      ],
      "metadata": {
        "id": "fpfNG8iyJBqQ"
      },
      "execution_count": null,
      "outputs": []
    },
    {
      "cell_type": "markdown",
      "source": [
        "## Run inference"
      ],
      "metadata": {
        "id": "D92pW4UjLwwc"
      }
    },
    {
      "cell_type": "code",
      "source": [
        "!python fam/llm/sample.py --spk_cond_path=\"assets/bria.mp3\" --text=\"This is a demo of text to speech by MetaVoice-1B, an open-source foundational audio model by MetaVoice.\""
      ],
      "metadata": {
        "id": "mPgTfUdBJF1B"
      },
      "execution_count": null,
      "outputs": []
    }
  ]
}